{
 "cells": [
  {
   "cell_type": "code",
   "execution_count": null,
   "metadata": {},
   "outputs": [],
   "source": [
    "!pip insall -U discord"
   ]
  },
  {
   "cell_type": "code",
   "execution_count": null,
   "metadata": {},
   "outputs": [],
   "source": [
    "!pip install -U python-dotenv"
   ]
  },
  {
   "cell_type": "code",
   "execution_count": null,
   "metadata": {},
   "outputs": [],
   "source": [
    "!pip install redis"
   ]
  },
  {
   "cell_type": "code",
   "execution_count": null,
   "metadata": {},
   "outputs": [],
   "source": [
    "%%file .env\n",
    "DISCORD_TOKEN=..."
   ]
  },
  {
   "cell_type": "code",
   "execution_count": null,
   "metadata": {},
   "outputs": [],
   "source": [
    "%%file course_label.tsv\n",
    "student_name_1 student_surname_1\n",
    "student_name_2 student_surname_2\n",
    "..."
   ]
  },
  {
   "cell_type": "code",
   "execution_count": 3,
   "metadata": {},
   "outputs": [
    {
     "name": "stdout",
     "output_type": "stream",
     "text": [
      "Overwriting bot.py\n"
     ]
    }
   ],
   "source": [
    "%%file bot.py\n",
    "import discord\n",
    "import asyncio\n",
    "from pathlib import Path\n",
    "from unicodedata import normalize\n",
    "import re\n",
    "from datetime import date\n",
    "import os\n",
    "from dotenv import load_dotenv\n",
    "import redis\n",
    "\n",
    "db = redis.StrictRedis(host='localhost', port=6379, db=1, charset=\"utf-8\", decode_responses=True)\n",
    "print(\"Redis connection:\", db.ping())\n",
    "\n",
    "GUILD_NAME = \"course_label\"\n",
    "\n",
    "starting_time = date.today().isoformat()\n",
    "\n",
    "def to_key(s):\n",
    "    string = normalize(\"NFD\", s.upper()).encode(\"ASCII\", \"ignore\").decode(\"ASCII\")\n",
    "    string = re.sub(r\"\\W\", \" \", string)\n",
    "    return frozenset(string.split())\n",
    "\n",
    "students = dict()\n",
    "for student in Path(f\"{GUILD_NAME}.tsv\").read_text().split(\"\\n\"):\n",
    "    if student:\n",
    "        key = to_key(student)\n",
    "        value = student.replace(\"\\t\", \" \")\n",
    "        students[key] = value\n",
    "    \n",
    "load_dotenv()\n",
    "TOKEN = os.getenv('DISCORD_TOKEN')\n",
    "\n",
    "class MyClient(discord.Client):\n",
    "    def __init__(self, *args, **kwargs):\n",
    "        super().__init__(*args, **kwargs)\n",
    "        self.bg_task = self.loop.create_task(self.my_background_task())\n",
    "\n",
    "    async def on_ready(self):\n",
    "        self.guild = discord.utils.get(client.guilds, name=GUILD_NAME)\n",
    "        if not self.guild:\n",
    "            return print(f\"No guild named '{GUILD_NAME}'.\")\n",
    "        print(f'{client.user} is connected to the following guild:')\n",
    "        print(f'{self.guild.name} (id: {self.guild.id})')\n",
    "        print(f'{client.user} has connected to Discord!')\n",
    "        expected = set(students)\n",
    "        for member in self.guild.members:\n",
    "            nick = member.nick if member.nick else member.name\n",
    "            if nick in (\"prof_nickname\", \"Poll Bot\", \"Roll call\", \"TeXit\"):\n",
    "                continue\n",
    "            key = to_key(nick)\n",
    "            if key not in students:\n",
    "                print(f\"@{nick} : attention ! mets ton pseudo sous la forme « Prénom Nom » pour éviter d'être automatiquement noté(e) absent(e) par le robot d'appel.\")\n",
    "            else:\n",
    "                expected.discard(key)\n",
    "        for key in expected:\n",
    "            print(f\"Attention ! {students[key]} n'est pas trouvé(e) par le robot d'appel.\")\n",
    "        print(\"@everyone Pour les autres étudiants, pas de problème avec votre pseudo, il est bien reconnu par mon petit robot.\")\n",
    "\n",
    "\n",
    "    async def my_background_task(self):\n",
    "        await self.wait_until_ready()\n",
    "        await asyncio.sleep(2) # seconds\n",
    "        while not self.is_closed():\n",
    "            if not hasattr(self, \"guild\"):\n",
    "                continue\n",
    "            online_members = set()\n",
    "            for member in self.guild.members:\n",
    "                if str(member.status) in ('online', 'dnd'):\n",
    "                    online_members.add(to_key(member.nick if member.nick else member.name))\n",
    "            row = []\n",
    "            for (i, (student_key, student_name)) in enumerate(students.items()):\n",
    "                is_present = \".\" if student_key in online_members else \"F\"\n",
    "                row.append(is_present)\n",
    "                if is_present == \"F\":\n",
    "                    print(f\"{student_name}: absent\")\n",
    "                db.append(f\"roll_call:{GUILD_NAME}:{starting_time}:{student_name}\", is_present)\n",
    "            print(\"\".join(row))\n",
    "            await asyncio.sleep(60) # seconds\n",
    "\n",
    "client = MyClient()\n",
    "client.run(TOKEN)"
   ]
  },
  {
   "cell_type": "markdown",
   "metadata": {},
   "source": [
    "La commande ci-dessous est bloquante. Il vaut mieux la lancer sous terminal que sous Jupyter Notebook si l'on veut pouvoir consulter en direct la liste des présents sous ce même notebook."
   ]
  },
  {
   "cell_type": "code",
   "execution_count": null,
   "metadata": {},
   "outputs": [],
   "source": [
    "!python bot.py"
   ]
  },
  {
   "cell_type": "markdown",
   "metadata": {},
   "source": [
    "# Commandes redis"
   ]
  },
  {
   "cell_type": "markdown",
   "metadata": {},
   "source": [
    "- Pour que les caractères Unicode ne soient pas échappés, lancer le client avec `redis-cli --raw`."
   ]
  },
  {
   "cell_type": "code",
   "execution_count": null,
   "metadata": {},
   "outputs": [],
   "source": [
    "import redis\n",
    "db = redis.StrictRedis(host='localhost', port=6379, db=1, charset=\"utf-8\", decode_responses=True)\n",
    "GUILD_NAME = \"redis\"\n",
    "starting_time = \"2020-03-16\"\n",
    "prefix = f\"roll_call:{GUILD_NAME}:{starting_time}:\"\n",
    "\n",
    "for key in db.keys(f\"{prefix:}*\"):\n",
    "    print(key[len(prefix):], \"\\t\", db.get(key))\n"
   ]
  },
  {
   "cell_type": "code",
   "execution_count": null,
   "metadata": {},
   "outputs": [],
   "source": [
    "keys = f\"{prefix:}*\"\n",
    "if input(f\"confirm deletion of {len(db.keys(keys))} keys (y/) ?\") == \"y\":\n",
    "    for key in db.keys(keys):\n",
    "        db.delete(key)\n",
    "    print(\"Done.\")"
   ]
  }
 ],
 "metadata": {
  "hide_input": false,
  "kernelspec": {
   "display_name": "Python 3",
   "language": "python",
   "name": "python3"
  },
  "language_info": {
   "codemirror_mode": {
    "name": "ipython",
    "version": 3
   },
   "file_extension": ".py",
   "mimetype": "text/x-python",
   "name": "python",
   "nbconvert_exporter": "python",
   "pygments_lexer": "ipython3",
   "version": "3.7.4"
  },
  "varInspector": {
   "cols": {
    "lenName": 16,
    "lenType": 16,
    "lenVar": 40
   },
   "kernels_config": {
    "python": {
     "delete_cmd_postfix": "",
     "delete_cmd_prefix": "del ",
     "library": "var_list.py",
     "varRefreshCmd": "print(var_dic_list())"
    },
    "r": {
     "delete_cmd_postfix": ") ",
     "delete_cmd_prefix": "rm(",
     "library": "var_list.r",
     "varRefreshCmd": "cat(var_dic_list()) "
    }
   },
   "types_to_exclude": [
    "module",
    "function",
    "builtin_function_or_method",
    "instance",
    "_Feature"
   ],
   "window_display": false
  }
 },
 "nbformat": 4,
 "nbformat_minor": 2
}
